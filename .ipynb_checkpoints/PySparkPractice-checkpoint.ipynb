{
 "cells": [
  {
   "cell_type": "code",
   "execution_count": 1,
   "id": "1d172251-8679-4f11-aa48-2782d58905c5",
   "metadata": {},
   "outputs": [],
   "source": [
    "import pyspark"
   ]
  },
  {
   "cell_type": "code",
   "execution_count": 2,
   "id": "0ccc7928-f2d4-4e84-8b6b-2b7478946ee4",
   "metadata": {},
   "outputs": [
    {
     "data": {
      "text/plain": [
       "'3.1.2'"
      ]
     },
     "execution_count": 2,
     "metadata": {},
     "output_type": "execute_result"
    }
   ],
   "source": [
    "pyspark.__version__"
   ]
  },
  {
   "cell_type": "code",
   "execution_count": 3,
   "id": "657b9d95-0013-48ce-8043-3fa5b85428f7",
   "metadata": {},
   "outputs": [],
   "source": [
    "from pyspark.sql import SparkSession"
   ]
  },
  {
   "cell_type": "code",
   "execution_count": 4,
   "id": "09f36ad3-a46d-428e-be42-76423e6046e5",
   "metadata": {},
   "outputs": [],
   "source": [
    "spark = SparkSession.builder.appName(name='practice').getOrCreate()"
   ]
  },
  {
   "cell_type": "code",
   "execution_count": 5,
   "id": "166a2ee9-59df-45f9-a286-8049b0eaebaf",
   "metadata": {},
   "outputs": [
    {
     "data": {
      "text/html": [
       "\n",
       "            <div>\n",
       "                <p><b>SparkSession - in-memory</b></p>\n",
       "                \n",
       "        <div>\n",
       "            <p><b>SparkContext</b></p>\n",
       "\n",
       "            <p><a href=\"http://192.168.100.3:4040\">Spark UI</a></p>\n",
       "\n",
       "            <dl>\n",
       "              <dt>Version</dt>\n",
       "                <dd><code>v3.1.2</code></dd>\n",
       "              <dt>Master</dt>\n",
       "                <dd><code>local[*]</code></dd>\n",
       "              <dt>AppName</dt>\n",
       "                <dd><code>practice</code></dd>\n",
       "            </dl>\n",
       "        </div>\n",
       "        \n",
       "            </div>\n",
       "        "
      ],
      "text/plain": [
       "<pyspark.sql.session.SparkSession at 0x7fd1a2d685b0>"
      ]
     },
     "execution_count": 5,
     "metadata": {},
     "output_type": "execute_result"
    }
   ],
   "source": [
    "spark"
   ]
  },
  {
   "cell_type": "code",
   "execution_count": 6,
   "id": "ca6c04fb-a5bd-4502-ad8c-b2170891e278",
   "metadata": {},
   "outputs": [],
   "source": [
    "# Readin the csv file with the first row as header\n",
    "df = spark.read.csv('Data.csv', header=True)"
   ]
  },
  {
   "cell_type": "code",
   "execution_count": 7,
   "id": "fbc31ac0-8dc9-4644-8397-bfb97421dfe8",
   "metadata": {},
   "outputs": [
    {
     "name": "stdout",
     "output_type": "stream",
     "text": [
      "+-------+----+------+---------+\n",
      "|Country| Age|Salary|Purchased|\n",
      "+-------+----+------+---------+\n",
      "| France|  44| 72000|       No|\n",
      "|  Spain|  27| 48000|      Yes|\n",
      "|Germany|  30| 54000|       No|\n",
      "|  Spain|  38| 61000|       No|\n",
      "|Germany|  40|  null|      Yes|\n",
      "| France|  35| 58000|      Yes|\n",
      "|  Spain|null| 52000|       No|\n",
      "| France|  48| 79000|      Yes|\n",
      "|Germany|  50| 83000|       No|\n",
      "| France|  37| 67000|      Yes|\n",
      "+-------+----+------+---------+\n",
      "\n"
     ]
    }
   ],
   "source": [
    "df.show()"
   ]
  },
  {
   "cell_type": "code",
   "execution_count": 8,
   "id": "d325fbac-411d-4c47-9f05-c7fa651cca4b",
   "metadata": {},
   "outputs": [
    {
     "name": "stdout",
     "output_type": "stream",
     "text": [
      "root\n",
      " |-- Country: string (nullable = true)\n",
      " |-- Age: string (nullable = true)\n",
      " |-- Salary: string (nullable = true)\n",
      " |-- Purchased: string (nullable = true)\n",
      "\n"
     ]
    }
   ],
   "source": [
    "# same as info in pandas\n",
    "df.printSchema()"
   ]
  },
  {
   "cell_type": "code",
   "execution_count": 9,
   "id": "ed4966da-8bd5-495f-a248-a1a2828ca6e9",
   "metadata": {},
   "outputs": [],
   "source": [
    "import pandas as pd"
   ]
  },
  {
   "cell_type": "code",
   "execution_count": 10,
   "id": "1f73c68b-532e-4f9e-80d1-5336a33f144b",
   "metadata": {},
   "outputs": [],
   "source": [
    "dff = pd.read_csv('Data.csv')"
   ]
  },
  {
   "cell_type": "code",
   "execution_count": 11,
   "id": "fce69987-c252-4845-9cf5-d1897df9bb20",
   "metadata": {},
   "outputs": [
    {
     "name": "stdout",
     "output_type": "stream",
     "text": [
      "<class 'pandas.core.frame.DataFrame'>\n",
      "RangeIndex: 10 entries, 0 to 9\n",
      "Data columns (total 4 columns):\n",
      " #   Column     Non-Null Count  Dtype  \n",
      "---  ------     --------------  -----  \n",
      " 0   Country    10 non-null     object \n",
      " 1   Age        9 non-null      float64\n",
      " 2   Salary     9 non-null      float64\n",
      " 3   Purchased  10 non-null     object \n",
      "dtypes: float64(2), object(2)\n",
      "memory usage: 448.0+ bytes\n"
     ]
    }
   ],
   "source": [
    "dff.info()"
   ]
  },
  {
   "cell_type": "code",
   "execution_count": 12,
   "id": "509890c0-bba4-43bb-8fb1-87dbed35db94",
   "metadata": {},
   "outputs": [
    {
     "name": "stdout",
     "output_type": "stream",
     "text": [
      "+-------+\n",
      "|Country|\n",
      "+-------+\n",
      "| France|\n",
      "|  Spain|\n",
      "|Germany|\n",
      "|  Spain|\n",
      "|Germany|\n",
      "| France|\n",
      "|  Spain|\n",
      "| France|\n",
      "|Germany|\n",
      "| France|\n",
      "+-------+\n",
      "\n"
     ]
    }
   ],
   "source": [
    "df.select('Country').show()"
   ]
  },
  {
   "cell_type": "code",
   "execution_count": 18,
   "id": "9bb1f469-e48c-4893-a2fa-3808f716d9b2",
   "metadata": {},
   "outputs": [
    {
     "data": {
      "text/plain": [
       "[Row(Country='France', Age='44', Salary='72000', Purchased='No'),\n",
       " Row(Country='Spain', Age='27', Salary='48000', Purchased='Yes'),\n",
       " Row(Country='Germany', Age='30', Salary='54000', Purchased='No'),\n",
       " Row(Country='Spain', Age='38', Salary='61000', Purchased='No'),\n",
       " Row(Country='Germany', Age='40', Salary=None, Purchased='Yes'),\n",
       " Row(Country='France', Age='35', Salary='58000', Purchased='Yes'),\n",
       " Row(Country='Spain', Age=None, Salary='52000', Purchased='No'),\n",
       " Row(Country='France', Age='48', Salary='79000', Purchased='Yes'),\n",
       " Row(Country='Germany', Age='50', Salary='83000', Purchased='No'),\n",
       " Row(Country='France', Age='37', Salary='67000', Purchased='Yes')]"
      ]
     },
     "execution_count": 18,
     "metadata": {},
     "output_type": "execute_result"
    }
   ],
   "source": [
    "# same as SQL but the collect method return the values as list\n",
    "df.select('*').collect()"
   ]
  },
  {
   "cell_type": "code",
   "execution_count": 19,
   "id": "478101b3-167a-436d-aaac-a8997c3971ba",
   "metadata": {},
   "outputs": [
    {
     "name": "stdout",
     "output_type": "stream",
     "text": [
      "+-------+------+\n",
      "|Country|Salary|\n",
      "+-------+------+\n",
      "| France| 72000|\n",
      "|  Spain| 48000|\n",
      "|Germany| 54000|\n",
      "|  Spain| 61000|\n",
      "|Germany|  null|\n",
      "| France| 58000|\n",
      "|  Spain| 52000|\n",
      "| France| 79000|\n",
      "|Germany| 83000|\n",
      "| France| 67000|\n",
      "+-------+------+\n",
      "\n"
     ]
    }
   ],
   "source": [
    "df.select(['Country', 'Salary']).show()"
   ]
  },
  {
   "cell_type": "code",
   "execution_count": 20,
   "id": "40c2de8c-c2a5-4e62-89cb-ae911b731fe1",
   "metadata": {},
   "outputs": [
    {
     "data": {
      "text/plain": [
       "[('Country', 'string'),\n",
       " ('Age', 'string'),\n",
       " ('Salary', 'string'),\n",
       " ('Purchased', 'string')]"
      ]
     },
     "execution_count": 20,
     "metadata": {},
     "output_type": "execute_result"
    }
   ],
   "source": [
    "# return the type of columns\n",
    "df.dtypes"
   ]
  },
  {
   "cell_type": "code",
   "execution_count": 23,
   "id": "26357b03-ca43-4492-9f4c-4c7f33673bc4",
   "metadata": {},
   "outputs": [
    {
     "name": "stdout",
     "output_type": "stream",
     "text": [
      "+-------+-------+-----------------+------------------+---------+\n",
      "|summary|Country|              Age|            Salary|Purchased|\n",
      "+-------+-------+-----------------+------------------+---------+\n",
      "|  count|     10|                9|                 9|       10|\n",
      "|   mean|   null|38.77777777777778| 63777.77777777778|     null|\n",
      "| stddev|   null|7.693792591722529|12265.579661982732|     null|\n",
      "|    min| France|               27|             48000|       No|\n",
      "|    max|  Spain|               50|             83000|      Yes|\n",
      "+-------+-------+-----------------+------------------+---------+\n",
      "\n"
     ]
    }
   ],
   "source": [
    "# return describe of data same as pandas\n",
    "df.describe().show()"
   ]
  },
  {
   "cell_type": "code",
   "execution_count": 25,
   "id": "4de2aad6-2d6d-4eb8-ae8f-6e37cef51805",
   "metadata": {},
   "outputs": [
    {
     "data": {
      "text/html": [
       "<div>\n",
       "<style scoped>\n",
       "    .dataframe tbody tr th:only-of-type {\n",
       "        vertical-align: middle;\n",
       "    }\n",
       "\n",
       "    .dataframe tbody tr th {\n",
       "        vertical-align: top;\n",
       "    }\n",
       "\n",
       "    .dataframe thead th {\n",
       "        text-align: right;\n",
       "    }\n",
       "</style>\n",
       "<table border=\"1\" class=\"dataframe\">\n",
       "  <thead>\n",
       "    <tr style=\"text-align: right;\">\n",
       "      <th></th>\n",
       "      <th>Age</th>\n",
       "      <th>Salary</th>\n",
       "    </tr>\n",
       "  </thead>\n",
       "  <tbody>\n",
       "    <tr>\n",
       "      <th>count</th>\n",
       "      <td>9.000000</td>\n",
       "      <td>9.000000</td>\n",
       "    </tr>\n",
       "    <tr>\n",
       "      <th>mean</th>\n",
       "      <td>38.777778</td>\n",
       "      <td>63777.777778</td>\n",
       "    </tr>\n",
       "    <tr>\n",
       "      <th>std</th>\n",
       "      <td>7.693793</td>\n",
       "      <td>12265.579662</td>\n",
       "    </tr>\n",
       "    <tr>\n",
       "      <th>min</th>\n",
       "      <td>27.000000</td>\n",
       "      <td>48000.000000</td>\n",
       "    </tr>\n",
       "    <tr>\n",
       "      <th>25%</th>\n",
       "      <td>35.000000</td>\n",
       "      <td>54000.000000</td>\n",
       "    </tr>\n",
       "    <tr>\n",
       "      <th>50%</th>\n",
       "      <td>38.000000</td>\n",
       "      <td>61000.000000</td>\n",
       "    </tr>\n",
       "    <tr>\n",
       "      <th>75%</th>\n",
       "      <td>44.000000</td>\n",
       "      <td>72000.000000</td>\n",
       "    </tr>\n",
       "    <tr>\n",
       "      <th>max</th>\n",
       "      <td>50.000000</td>\n",
       "      <td>83000.000000</td>\n",
       "    </tr>\n",
       "  </tbody>\n",
       "</table>\n",
       "</div>"
      ],
      "text/plain": [
       "             Age        Salary\n",
       "count   9.000000      9.000000\n",
       "mean   38.777778  63777.777778\n",
       "std     7.693793  12265.579662\n",
       "min    27.000000  48000.000000\n",
       "25%    35.000000  54000.000000\n",
       "50%    38.000000  61000.000000\n",
       "75%    44.000000  72000.000000\n",
       "max    50.000000  83000.000000"
      ]
     },
     "execution_count": 25,
     "metadata": {},
     "output_type": "execute_result"
    }
   ],
   "source": [
    "# pandas\n",
    "dff.describe()"
   ]
  },
  {
   "cell_type": "markdown",
   "id": "18cd7883-28ea-42a6-99f7-1be7aa65483f",
   "metadata": {},
   "source": [
    "## Adding columns in the data frame Spark\n",
    "\n",
    "- this method doesn't support inplace as pandas it return nes df "
   ]
  },
  {
   "cell_type": "code",
   "execution_count": 30,
   "id": "127dba43-bfee-4fab-97b4-69890ad37ca9",
   "metadata": {},
   "outputs": [
    {
     "name": "stdout",
     "output_type": "stream",
     "text": [
      "+-------+----+------+---------+-----------------+\n",
      "|Country| Age|Salary|Purchased|Age after 2 years|\n",
      "+-------+----+------+---------+-----------------+\n",
      "| France|  44| 72000|       No|             46.0|\n",
      "|  Spain|  27| 48000|      Yes|             29.0|\n",
      "|Germany|  30| 54000|       No|             32.0|\n",
      "|  Spain|  38| 61000|       No|             40.0|\n",
      "|Germany|  40|  null|      Yes|             42.0|\n",
      "| France|  35| 58000|      Yes|             37.0|\n",
      "|  Spain|null| 52000|       No|             null|\n",
      "| France|  48| 79000|      Yes|             50.0|\n",
      "|Germany|  50| 83000|       No|             52.0|\n",
      "| France|  37| 67000|      Yes|             39.0|\n",
      "+-------+----+------+---------+-----------------+\n",
      "\n"
     ]
    }
   ],
   "source": [
    "df = df.withColumn('Age after 2 years', df['Age'] + 2)\n",
    "df.show()"
   ]
  },
  {
   "cell_type": "markdown",
   "id": "6f99ec64-b62d-4d5e-a784-d09024b91741",
   "metadata": {},
   "source": [
    "## Droping columns"
   ]
  },
  {
   "cell_type": "code",
   "execution_count": 33,
   "id": "14e84615-e9eb-4261-b06a-87e31c00c1d6",
   "metadata": {},
   "outputs": [],
   "source": [
    "df = df.drop('Age after 2 years')"
   ]
  },
  {
   "cell_type": "code",
   "execution_count": 34,
   "id": "5b4fd0b3-6971-4cba-b7cb-f5f241a81abe",
   "metadata": {},
   "outputs": [
    {
     "name": "stdout",
     "output_type": "stream",
     "text": [
      "+-------+----+------+---------+\n",
      "|Country| Age|Salary|Purchased|\n",
      "+-------+----+------+---------+\n",
      "| France|  44| 72000|       No|\n",
      "|  Spain|  27| 48000|      Yes|\n",
      "|Germany|  30| 54000|       No|\n",
      "|  Spain|  38| 61000|       No|\n",
      "|Germany|  40|  null|      Yes|\n",
      "| France|  35| 58000|      Yes|\n",
      "|  Spain|null| 52000|       No|\n",
      "| France|  48| 79000|      Yes|\n",
      "|Germany|  50| 83000|       No|\n",
      "| France|  37| 67000|      Yes|\n",
      "+-------+----+------+---------+\n",
      "\n"
     ]
    }
   ],
   "source": [
    "df.show()"
   ]
  },
  {
   "cell_type": "markdown",
   "id": "0a5dcbc6-3e9b-4c41-aa8c-9c52cd2dba44",
   "metadata": {},
   "source": [
    "### Rename Column"
   ]
  },
  {
   "cell_type": "code",
   "execution_count": 35,
   "id": "50a604ca-e922-496f-8004-4f5c96160578",
   "metadata": {},
   "outputs": [
    {
     "name": "stdout",
     "output_type": "stream",
     "text": [
      "+-------+----+------+---------+\n",
      "|Country| Old|Salary|Purchased|\n",
      "+-------+----+------+---------+\n",
      "| France|  44| 72000|       No|\n",
      "|  Spain|  27| 48000|      Yes|\n",
      "|Germany|  30| 54000|       No|\n",
      "|  Spain|  38| 61000|       No|\n",
      "|Germany|  40|  null|      Yes|\n",
      "| France|  35| 58000|      Yes|\n",
      "|  Spain|null| 52000|       No|\n",
      "| France|  48| 79000|      Yes|\n",
      "|Germany|  50| 83000|       No|\n",
      "| France|  37| 67000|      Yes|\n",
      "+-------+----+------+---------+\n",
      "\n"
     ]
    }
   ],
   "source": [
    "df.withColumnRenamed('Age', 'Old').show()"
   ]
  },
  {
   "cell_type": "markdown",
   "id": "6fc0c103-f8c4-497a-b9de-69fcb19e6571",
   "metadata": {},
   "source": [
    "#                                                Missing Values"
   ]
  },
  {
   "cell_type": "code",
   "execution_count": 37,
   "id": "35c7cff1-835c-4563-96fd-622bc9aa416f",
   "metadata": {},
   "outputs": [
    {
     "name": "stdout",
     "output_type": "stream",
     "text": [
      "+----+------+---------+\n",
      "| Age|Salary|Purchased|\n",
      "+----+------+---------+\n",
      "|  44| 72000|       No|\n",
      "|  27| 48000|      Yes|\n",
      "|  30| 54000|       No|\n",
      "|  38| 61000|       No|\n",
      "|  40|  null|      Yes|\n",
      "|  35| 58000|      Yes|\n",
      "|null| 52000|       No|\n",
      "|  48| 79000|      Yes|\n",
      "|  50| 83000|       No|\n",
      "|  37| 67000|      Yes|\n",
      "+----+------+---------+\n",
      "\n"
     ]
    }
   ],
   "source": [
    "## drop the colum\n",
    "df.drop('Country').show()"
   ]
  },
  {
   "cell_type": "markdown",
   "id": "eddf5778-1271-4409-a544-82450d5626ea",
   "metadata": {},
   "source": [
    "- it will drop all row that has at least null value in colum"
   ]
  },
  {
   "cell_type": "code",
   "execution_count": 39,
   "id": "38d70ad3-475a-46e8-9f49-42aa1f266f45",
   "metadata": {},
   "outputs": [
    {
     "name": "stdout",
     "output_type": "stream",
     "text": [
      "+-------+---+------+---------+\n",
      "|Country|Age|Salary|Purchased|\n",
      "+-------+---+------+---------+\n",
      "| France| 44| 72000|       No|\n",
      "|  Spain| 27| 48000|      Yes|\n",
      "|Germany| 30| 54000|       No|\n",
      "|  Spain| 38| 61000|       No|\n",
      "| France| 35| 58000|      Yes|\n",
      "| France| 48| 79000|      Yes|\n",
      "|Germany| 50| 83000|       No|\n",
      "| France| 37| 67000|      Yes|\n",
      "+-------+---+------+---------+\n",
      "\n"
     ]
    }
   ],
   "source": [
    "df.na.drop().show()"
   ]
  },
  {
   "cell_type": "code",
   "execution_count": 46,
   "id": "1bc77ba2-3561-4fae-ae3d-da2ed447f278",
   "metadata": {},
   "outputs": [
    {
     "name": "stdout",
     "output_type": "stream",
     "text": [
      "+---------+----+----------+------+\n",
      "|     Name| age|Experience|Salary|\n",
      "+---------+----+----------+------+\n",
      "|    Krish|  31|        10| 30000|\n",
      "|Sudhanshu|  30|         8| 25000|\n",
      "|    Sunny|  29|         4| 20000|\n",
      "|     Paul|  24|         3| 20000|\n",
      "|   Harsha|  21|         1| 15000|\n",
      "|  Shubham|  23|         2| 18000|\n",
      "|   Mahesh|null|      null| 40000|\n",
      "|     null|  34|        10| 38000|\n",
      "|     null|  36|      null|  null|\n",
      "+---------+----+----------+------+\n",
      "\n"
     ]
    }
   ],
   "source": [
    "df = spark.read.csv('test2.csv', header=True, inferSchema=True)\n",
    "df.show()"
   ]
  },
  {
   "cell_type": "markdown",
   "id": "c01ac973-6892-4c4a-9e65-c87fd515336c",
   "metadata": {},
   "source": [
    "- how = all or any it mean if all columns in the rows has null drop the row,\n",
    "- how = any if mean if just one value null in colmn drop the row"
   ]
  },
  {
   "cell_type": "code",
   "execution_count": 48,
   "id": "bed6a47e-fc7e-45cb-8119-9e6cc93efa88",
   "metadata": {},
   "outputs": [
    {
     "name": "stdout",
     "output_type": "stream",
     "text": [
      "+---------+---+----------+------+\n",
      "|     Name|age|Experience|Salary|\n",
      "+---------+---+----------+------+\n",
      "|    Krish| 31|        10| 30000|\n",
      "|Sudhanshu| 30|         8| 25000|\n",
      "|    Sunny| 29|         4| 20000|\n",
      "|     Paul| 24|         3| 20000|\n",
      "|   Harsha| 21|         1| 15000|\n",
      "|  Shubham| 23|         2| 18000|\n",
      "+---------+---+----------+------+\n",
      "\n"
     ]
    }
   ],
   "source": [
    "df.na.drop(how='any').show()"
   ]
  },
  {
   "cell_type": "markdown",
   "id": "558f5598-2c5e-4908-9ea8-b70d9a23519a",
   "metadata": {},
   "source": [
    "<p> - thresh take int number, for exemple thresh=2 it mean if they are mini 2 null value in the row drop it if not keep it \n",
    "\n",
    "</p>"
   ]
  },
  {
   "cell_type": "code",
   "execution_count": 59,
   "id": "a7e28f7d-4d68-4612-a942-1e8e5d47df1a",
   "metadata": {},
   "outputs": [
    {
     "name": "stdout",
     "output_type": "stream",
     "text": [
      "+---------+---+----------+------+\n",
      "|     Name|age|Experience|Salary|\n",
      "+---------+---+----------+------+\n",
      "|    Krish| 31|        10| 30000|\n",
      "|Sudhanshu| 30|         8| 25000|\n",
      "|    Sunny| 29|         4| 20000|\n",
      "|     Paul| 24|         3| 20000|\n",
      "|   Harsha| 21|         1| 15000|\n",
      "|  Shubham| 23|         2| 18000|\n",
      "|     null| 34|        10| 38000|\n",
      "+---------+---+----------+------+\n",
      "\n"
     ]
    }
   ],
   "source": [
    "df.na.drop(thresh=3).show()"
   ]
  },
  {
   "cell_type": "markdown",
   "id": "3c5c53ca-1f50-487e-af31-1b69ec04c040",
   "metadata": {},
   "source": [
    "- subset take list of colmns names to drop row that their colmns had null"
   ]
  },
  {
   "cell_type": "code",
   "execution_count": 61,
   "id": "753a302f-537e-4e04-b8e2-b92a706c360f",
   "metadata": {},
   "outputs": [
    {
     "name": "stdout",
     "output_type": "stream",
     "text": [
      "+---------+---+----------+------+\n",
      "|     Name|age|Experience|Salary|\n",
      "+---------+---+----------+------+\n",
      "|    Krish| 31|        10| 30000|\n",
      "|Sudhanshu| 30|         8| 25000|\n",
      "|    Sunny| 29|         4| 20000|\n",
      "|     Paul| 24|         3| 20000|\n",
      "|   Harsha| 21|         1| 15000|\n",
      "|  Shubham| 23|         2| 18000|\n",
      "|     null| 34|        10| 38000|\n",
      "|     null| 36|      null|  null|\n",
      "+---------+---+----------+------+\n",
      "\n"
     ]
    }
   ],
   "source": [
    "df.na.drop(subset=['age']).show()"
   ]
  },
  {
   "cell_type": "markdown",
   "id": "2656cec6-b330-4195-b4dc-25953c601129",
   "metadata": {},
   "source": [
    "## Fill the missing values"
   ]
  },
  {
   "cell_type": "code",
   "execution_count": 64,
   "id": "16aafd0e-451a-4974-9f34-741ca746fa70",
   "metadata": {},
   "outputs": [
    {
     "name": "stdout",
     "output_type": "stream",
     "text": [
      "+---------+---+----------+------+\n",
      "|     Name|age|Experience|Salary|\n",
      "+---------+---+----------+------+\n",
      "|    Krish| 31|        10| 30000|\n",
      "|Sudhanshu| 30|         8| 25000|\n",
      "|    Sunny| 29|         4| 20000|\n",
      "|     Paul| 24|         3| 20000|\n",
      "|   Harsha| 21|         1| 15000|\n",
      "|  Shubham| 23|         2| 18000|\n",
      "|   Mahesh|  2|         2| 40000|\n",
      "|     null| 34|        10| 38000|\n",
      "|     null| 36|         2|     2|\n",
      "+---------+---+----------+------+\n",
      "\n",
      "+---------+----+----------+------+\n",
      "|     Name| age|Experience|Salary|\n",
      "+---------+----+----------+------+\n",
      "|    Krish|  31|        10| 30000|\n",
      "|Sudhanshu|  30|         8| 25000|\n",
      "|    Sunny|  29|         4| 20000|\n",
      "|     Paul|  24|         3| 20000|\n",
      "|   Harsha|  21|         1| 15000|\n",
      "|  Shubham|  23|         2| 18000|\n",
      "|   Mahesh|null|      null| 40000|\n",
      "|  Missing|  34|        10| 38000|\n",
      "|  Missing|  36|      null|  null|\n",
      "+---------+----+----------+------+\n",
      "\n"
     ]
    }
   ],
   "source": [
    "df.fillna(2).show()\n",
    "df.na.fill('Missing').show()"
   ]
  },
  {
   "cell_type": "markdown",
   "id": "883e43ca-d056-480c-b0c0-c75cddb781ad",
   "metadata": {},
   "source": [
    "- missing value with mean"
   ]
  },
  {
   "cell_type": "code",
   "execution_count": 66,
   "id": "8785425c-eba5-4811-8992-d9325076cd00",
   "metadata": {},
   "outputs": [],
   "source": [
    "from pyspark.ml.feature import Imputer\n",
    "imputer = Imputer(strategy='mean', inputCols=['Experience', 'Salary', 'age'], outputCols=[\"{}_imputer\".format(i) for i in ['Experience', 'Salary', 'age']])"
   ]
  },
  {
   "cell_type": "code",
   "execution_count": 67,
   "id": "29427cf7-fe96-4942-b389-246f49bbf33a",
   "metadata": {},
   "outputs": [
    {
     "name": "stdout",
     "output_type": "stream",
     "text": [
      "+---------+----+----------+------+------------------+--------------+-----------+\n",
      "|     Name| age|Experience|Salary|Experience_imputer|Salary_imputer|age_imputer|\n",
      "+---------+----+----------+------+------------------+--------------+-----------+\n",
      "|    Krish|  31|        10| 30000|                10|         30000|         31|\n",
      "|Sudhanshu|  30|         8| 25000|                 8|         25000|         30|\n",
      "|    Sunny|  29|         4| 20000|                 4|         20000|         29|\n",
      "|     Paul|  24|         3| 20000|                 3|         20000|         24|\n",
      "|   Harsha|  21|         1| 15000|                 1|         15000|         21|\n",
      "|  Shubham|  23|         2| 18000|                 2|         18000|         23|\n",
      "|   Mahesh|null|      null| 40000|                 5|         40000|         28|\n",
      "|     null|  34|        10| 38000|                10|         38000|         34|\n",
      "|     null|  36|      null|  null|                 5|         25750|         36|\n",
      "+---------+----+----------+------+------------------+--------------+-----------+\n",
      "\n"
     ]
    }
   ],
   "source": [
    "imputer.fit(df).transform(df).show()"
   ]
  },
  {
   "cell_type": "code",
   "execution_count": 68,
   "id": "6c1adcb3-6ef9-4538-9dc8-8c14769a4acd",
   "metadata": {},
   "outputs": [
    {
     "name": "stdout",
     "output_type": "stream",
     "text": [
      "+---------+----+----------+------+------------------+--------------+-----------+\n",
      "|     Name| age|Experience|Salary|Experience_imputer|Salary_imputer|age_imputer|\n",
      "+---------+----+----------+------+------------------+--------------+-----------+\n",
      "|    Krish|  31|        10| 30000|                10|         30000|         31|\n",
      "|Sudhanshu|  30|         8| 25000|                 8|         25000|         30|\n",
      "|    Sunny|  29|         4| 20000|                 4|         20000|         29|\n",
      "|     Paul|  24|         3| 20000|                 3|         20000|         24|\n",
      "|   Harsha|  21|         1| 15000|                 1|         15000|         21|\n",
      "|  Shubham|  23|         2| 18000|                 2|         18000|         23|\n",
      "|   Mahesh|null|      null| 40000|                 5|         40000|         28|\n",
      "|     null|  34|        10| 38000|                10|         38000|         34|\n",
      "|     null|  36|      null|  null|                 5|         25750|         36|\n",
      "+---------+----+----------+------+------------------+--------------+-----------+\n",
      "\n"
     ]
    }
   ],
   "source": [
    "data = imputer.fit(df).transform(df)\n",
    "data.show()"
   ]
  },
  {
   "cell_type": "markdown",
   "id": "8496d38b-0110-457b-942e-da9c5a47e08d",
   "metadata": {},
   "source": [
    "<h2><center> The filter operation</center></h2>"
   ]
  },
  {
   "cell_type": "code",
   "execution_count": null,
   "id": "bdd40b0f-0fdf-4c85-8010-1f959c9db266",
   "metadata": {},
   "outputs": [],
   "source": []
  },
  {
   "cell_type": "code",
   "execution_count": null,
   "id": "695e40c0-c61d-40a7-a3ac-a480b7afdde1",
   "metadata": {},
   "outputs": [],
   "source": []
  },
  {
   "cell_type": "code",
   "execution_count": null,
   "id": "837456b4-5626-4363-8f10-dbde4c4fe57a",
   "metadata": {},
   "outputs": [],
   "source": []
  },
  {
   "cell_type": "code",
   "execution_count": null,
   "id": "f5ca531a-9284-480f-9545-f30748cdb5cf",
   "metadata": {},
   "outputs": [],
   "source": []
  },
  {
   "cell_type": "code",
   "execution_count": null,
   "id": "82efad42-d045-4f81-bd79-41ba23ba0650",
   "metadata": {},
   "outputs": [],
   "source": []
  },
  {
   "cell_type": "code",
   "execution_count": null,
   "id": "c4c94ace-fc4a-4389-ab7d-82fe5b4463df",
   "metadata": {},
   "outputs": [],
   "source": []
  },
  {
   "cell_type": "code",
   "execution_count": null,
   "id": "bec62196-31d1-4534-b3e9-2d12406e19d8",
   "metadata": {},
   "outputs": [],
   "source": []
  },
  {
   "cell_type": "code",
   "execution_count": null,
   "id": "72188f65-b4d3-49b5-a8cc-a877ca73fde0",
   "metadata": {},
   "outputs": [],
   "source": []
  },
  {
   "cell_type": "code",
   "execution_count": null,
   "id": "dd3d602b-2169-45ef-a4b6-3e9d1df034e8",
   "metadata": {},
   "outputs": [],
   "source": []
  },
  {
   "cell_type": "code",
   "execution_count": null,
   "id": "f566abd3-1660-443a-9783-6c39b9ef1a61",
   "metadata": {},
   "outputs": [],
   "source": []
  },
  {
   "cell_type": "code",
   "execution_count": null,
   "id": "507c2f75-6694-47ca-ab65-9eb64bf3a87f",
   "metadata": {},
   "outputs": [],
   "source": []
  },
  {
   "cell_type": "code",
   "execution_count": null,
   "id": "6b41727f-928c-4cd5-bac7-abce8e6b450a",
   "metadata": {},
   "outputs": [],
   "source": []
  },
  {
   "cell_type": "code",
   "execution_count": null,
   "id": "809fe1fd-b68a-4bd2-b4e6-bef0b2eefcb9",
   "metadata": {},
   "outputs": [],
   "source": []
  },
  {
   "cell_type": "code",
   "execution_count": null,
   "id": "c814a8a3-f42a-4ec0-8f84-fa8a6b6772f2",
   "metadata": {},
   "outputs": [],
   "source": []
  },
  {
   "cell_type": "code",
   "execution_count": null,
   "id": "f5a233ca-23a0-423d-a01c-32c57851cd62",
   "metadata": {},
   "outputs": [],
   "source": []
  },
  {
   "cell_type": "code",
   "execution_count": null,
   "id": "978533d3-1eb7-4a8c-8eeb-389861a08c66",
   "metadata": {},
   "outputs": [],
   "source": []
  },
  {
   "cell_type": "code",
   "execution_count": null,
   "id": "c8caf611-b2e4-4899-bb2c-31f386290529",
   "metadata": {},
   "outputs": [],
   "source": []
  },
  {
   "cell_type": "code",
   "execution_count": null,
   "id": "3658b206-1115-4741-b08d-412e63ad8f2f",
   "metadata": {},
   "outputs": [],
   "source": []
  }
 ],
 "metadata": {
  "kernelspec": {
   "display_name": "Python 3",
   "language": "python",
   "name": "python3"
  },
  "language_info": {
   "codemirror_mode": {
    "name": "ipython",
    "version": 3
   },
   "file_extension": ".py",
   "mimetype": "text/x-python",
   "name": "python",
   "nbconvert_exporter": "python",
   "pygments_lexer": "ipython3",
   "version": "3.8.3"
  }
 },
 "nbformat": 4,
 "nbformat_minor": 5
}
